{
 "cells": [
  {
   "cell_type": "code",
   "execution_count": 1,
   "metadata": {},
   "outputs": [
    {
     "data": {
      "text/plain": [
       "Intitializing Scala interpreter ..."
      ]
     },
     "metadata": {},
     "output_type": "display_data"
    },
    {
     "data": {
      "text/plain": [
       "Spark Web UI available at http://213cfaf5a00b:4040\n",
       "SparkContext available as 'sc' (version = 2.4.2, master = local[*], app id = local-1586380378815)\n",
       "SparkSession available as 'spark'\n"
      ]
     },
     "metadata": {},
     "output_type": "display_data"
    },
    {
     "data": {
      "text/plain": [
       "import org.opencypher.morpheus.api.MorpheusSession\n",
       "morpheus: org.opencypher.morpheus.api.MorpheusSession = MorpheusSession\n"
      ]
     },
     "execution_count": 1,
     "metadata": {},
     "output_type": "execute_result"
    }
   ],
   "source": [
    "import org.opencypher.morpheus.api.MorpheusSession\n",
    "\n",
    "implicit val morpheus: MorpheusSession = MorpheusSession.local()"
   ]
  },
  {
   "cell_type": "markdown",
   "metadata": {},
   "source": [
    "###### Define Neo4jContext class"
   ]
  },
  {
   "cell_type": "code",
   "execution_count": 2,
   "metadata": {},
   "outputs": [
    {
     "data": {
      "text/plain": [
       "import org.opencypher.okapi.neo4j.io.Neo4jConfig\n",
       "import org.neo4j.driver.v1.{Driver, Session, StatementResult}\n",
       "defined class Neo4jContext\n"
      ]
     },
     "execution_count": 2,
     "metadata": {},
     "output_type": "execute_result"
    }
   ],
   "source": [
    "import org.opencypher.okapi.neo4j.io.Neo4jConfig\n",
    "import org.neo4j.driver.v1.{Driver, Session, StatementResult}\n",
    "\n",
    "case class Neo4jContext(config: Neo4jConfig) {\n",
    "\n",
    "    val driver = config.driver()\n",
    "    val session = driver.session()\n",
    "\n",
    "    def close(): Unit = {\n",
    "        session.close()\n",
    "        driver.close()\n",
    "    }\n",
    "\n",
    "    def execute(cypher: String): StatementResult = {\n",
    "        session.run(cypher)\n",
    "    }\n",
    "}"
   ]
  },
  {
   "cell_type": "markdown",
   "metadata": {},
   "source": [
    "###### Create Neo4jConfig objects, one for each neo4j instance"
   ]
  },
  {
   "cell_type": "code",
   "execution_count": 3,
   "metadata": {},
   "outputs": [
    {
     "data": {
      "text/plain": [
       "import java.net.URI\n",
       "import org.opencypher.okapi.neo4j.io.Neo4jConfig\n",
       "NEO4J_PEOPLE_URI: String = bolt://neo4j-people:7687\n",
       "NEO4J_PEOPLE_USERNAME: String = neo4j\n",
       "NEO4J_PEOPLE_PASSWORD: String = people\n",
       "neo4jPeopleConfig: org.opencypher.okapi.neo4j.io.Neo4jConfig = Neo4jConfig(bolt://neo4j-people:7687,neo4j,Some(people),false,100000,100000,1000,10)\n"
      ]
     },
     "execution_count": 3,
     "metadata": {},
     "output_type": "execute_result"
    }
   ],
   "source": [
    "import java.net.URI\n",
    "import org.opencypher.okapi.neo4j.io.Neo4jConfig\n",
    "\n",
    "val NEO4J_PEOPLE_URI = sys.env(\"NEO4J_PEOPLE_URI\")\n",
    "val NEO4J_PEOPLE_USERNAME = sys.env(\"NEO4J_PEOPLE_USERNAME\")\n",
    "val NEO4J_PEOPLE_PASSWORD = sys.env(\"NEO4J_PEOPLE_PASSWORD\")\n",
    "\n",
    "val neo4jPeopleConfig = new Neo4jConfig(\n",
    "    URI.create(NEO4J_PEOPLE_URI),\n",
    "    user = NEO4J_PEOPLE_USERNAME, \n",
    "    password = Some(NEO4J_PEOPLE_PASSWORD), \n",
    "    encrypted = false\n",
    ")"
   ]
  },
  {
   "cell_type": "code",
   "execution_count": 4,
   "metadata": {},
   "outputs": [
    {
     "data": {
      "text/plain": [
       "import java.net.URI\n",
       "import org.opencypher.okapi.neo4j.io.Neo4jConfig\n",
       "NEO4J_CARS_URI: String = bolt://neo4j-cars:7687\n",
       "NEO4J_CARS_USERNAME: String = neo4j\n",
       "NEO4J_CARS_PASSWORD: String = cars\n",
       "neo4jCarsConfig: org.opencypher.okapi.neo4j.io.Neo4jConfig = Neo4jConfig(bolt://neo4j-cars:7687,neo4j,Some(cars),false,100000,100000,1000,10)\n"
      ]
     },
     "execution_count": 4,
     "metadata": {},
     "output_type": "execute_result"
    }
   ],
   "source": [
    "import java.net.URI\n",
    "import org.opencypher.okapi.neo4j.io.Neo4jConfig\n",
    "\n",
    "val NEO4J_CARS_URI = sys.env(\"NEO4J_CARS_URI\")\n",
    "val NEO4J_CARS_USERNAME = sys.env(\"NEO4J_CARS_USERNAME\")\n",
    "val NEO4J_CARS_PASSWORD = sys.env(\"NEO4J_CARS_PASSWORD\")\n",
    "\n",
    "val neo4jCarsConfig = new Neo4jConfig(\n",
    "    URI.create(NEO4J_CARS_URI),\n",
    "    user = NEO4J_CARS_USERNAME, \n",
    "    password = Some(NEO4J_CARS_PASSWORD), \n",
    "    encrypted = false\n",
    ")"
   ]
  },
  {
   "cell_type": "code",
   "execution_count": 5,
   "metadata": {},
   "outputs": [
    {
     "data": {
      "text/plain": [
       "import java.net.URI\n",
       "import org.opencypher.okapi.neo4j.io.Neo4jConfig\n",
       "NEO4J_INSURANCE_URI: String = bolt://neo4j-insurance:7687\n",
       "NEO4J_INSURANCE_USERNAME: String = neo4j\n",
       "NEO4J_INSURANCE_PASSWORD: String = insurance\n",
       "neo4jInsuranceConfig: org.opencypher.okapi.neo4j.io.Neo4jConfig = Neo4jConfig(bolt://neo4j-insurance:7687,neo4j,Some(insurance),false,100000,100000,1000,10)\n"
      ]
     },
     "execution_count": 5,
     "metadata": {},
     "output_type": "execute_result"
    }
   ],
   "source": [
    "import java.net.URI\n",
    "import org.opencypher.okapi.neo4j.io.Neo4jConfig\n",
    "\n",
    "val NEO4J_INSURANCE_URI = sys.env(\"NEO4J_INSURANCE_URI\")\n",
    "val NEO4J_INSURANCE_USERNAME = sys.env(\"NEO4J_INSURANCE_USERNAME\")\n",
    "val NEO4J_INSURANCE_PASSWORD = sys.env(\"NEO4J_INSURANCE_PASSWORD\")\n",
    "\n",
    "val neo4jInsuranceConfig = new Neo4jConfig(\n",
    "    URI.create(NEO4J_INSURANCE_URI),\n",
    "    user = NEO4J_INSURANCE_USERNAME, \n",
    "    password = Some(NEO4J_INSURANCE_PASSWORD), \n",
    "    encrypted = false\n",
    ")"
   ]
  },
  {
   "cell_type": "markdown",
   "metadata": {},
   "source": [
    "###### Create Neo4jContext objects, one for each Neo4jConfig object"
   ]
  },
  {
   "cell_type": "code",
   "execution_count": 6,
   "metadata": {},
   "outputs": [
    {
     "data": {
      "text/plain": [
       "neo4jPeopleContext: Neo4jContext = Neo4jContext(Neo4jConfig(bolt://neo4j-people:7687,neo4j,Some(people),false,100000,100000,1000,10))\n"
      ]
     },
     "execution_count": 6,
     "metadata": {},
     "output_type": "execute_result"
    }
   ],
   "source": [
    "val neo4jPeopleContext = new Neo4jContext(neo4jPeopleConfig)"
   ]
  },
  {
   "cell_type": "code",
   "execution_count": 7,
   "metadata": {},
   "outputs": [
    {
     "data": {
      "text/plain": [
       "neo4jCarsContext: Neo4jContext = Neo4jContext(Neo4jConfig(bolt://neo4j-cars:7687,neo4j,Some(cars),false,100000,100000,1000,10))\n"
      ]
     },
     "execution_count": 7,
     "metadata": {},
     "output_type": "execute_result"
    }
   ],
   "source": [
    "val neo4jCarsContext = new Neo4jContext(neo4jCarsConfig)"
   ]
  },
  {
   "cell_type": "code",
   "execution_count": 8,
   "metadata": {},
   "outputs": [
    {
     "data": {
      "text/plain": [
       "neo4jInsuranceContext: Neo4jContext = Neo4jContext(Neo4jConfig(bolt://neo4j-insurance:7687,neo4j,Some(insurance),false,100000,100000,1000,10))\n"
      ]
     },
     "execution_count": 8,
     "metadata": {},
     "output_type": "execute_result"
    }
   ],
   "source": [
    "val neo4jInsuranceContext = new Neo4jContext(neo4jInsuranceConfig)"
   ]
  },
  {
   "cell_type": "markdown",
   "metadata": {},
   "source": [
    "###### Initialize Neo4j graph with sample data"
   ]
  },
  {
   "cell_type": "code",
   "execution_count": 9,
   "metadata": {},
   "outputs": [
    {
     "data": {
      "text/plain": [
       "res0: org.neo4j.driver.v1.StatementResult = org.neo4j.driver.internal.InternalStatementResult@4d4389c0\n"
      ]
     },
     "execution_count": 9,
     "metadata": {},
     "output_type": "execute_result"
    }
   ],
   "source": [
    "neo4jPeopleContext.execute(\n",
    "    \"\"\"|CREATE (:Person {name:'Alice', age:18})-[:drives]->(:Car {plate:'AB123AB'})\n",
    "       |CREATE (:Person {name:'Bob', age:45})-[:drives]->(:Car {plate:'DE456DE'})\"\"\".stripMargin\n",
    ")"
   ]
  },
  {
   "cell_type": "code",
   "execution_count": 10,
   "metadata": {},
   "outputs": [
    {
     "data": {
      "text/plain": [
       "res1: org.neo4j.driver.v1.StatementResult = org.neo4j.driver.internal.InternalStatementResult@6f662505\n"
      ]
     },
     "execution_count": 10,
     "metadata": {},
     "output_type": "execute_result"
    }
   ],
   "source": [
    "neo4jCarsContext.execute(\n",
    "    \"\"\"|CREATE (:Car {plate:'AB123AB', power: 130})\n",
    "       |CREATE (:Car {plate:'DE456DE', power: 95})\"\"\".stripMargin\n",
    ")"
   ]
  },
  {
   "cell_type": "markdown",
   "metadata": {},
   "source": [
    "###### Register Neo4j graphs into morpheus"
   ]
  },
  {
   "cell_type": "code",
   "execution_count": 11,
   "metadata": {},
   "outputs": [
    {
     "data": {
      "text/plain": [
       "import org.opencypher.morpheus.api.GraphSources\n",
       "import org.opencypher.okapi.api.graph.Namespace\n"
      ]
     },
     "execution_count": 11,
     "metadata": {},
     "output_type": "execute_result"
    }
   ],
   "source": [
    "import org.opencypher.morpheus.api.GraphSources\n",
    "import org.opencypher.okapi.api.graph.Namespace"
   ]
  },
  {
   "cell_type": "code",
   "execution_count": 12,
   "metadata": {},
   "outputs": [
    {
     "data": {
      "text/plain": [
       "peopleGraph: org.opencypher.okapi.api.graph.PropertyGraph = ScanGraph(NodePattern(NODE(:Car)), NodePattern(NODE(:Person)), RelationshipPattern(RELATIONSHIP(:drives)))\n"
      ]
     },
     "execution_count": 12,
     "metadata": {},
     "output_type": "execute_result"
    }
   ],
   "source": [
    "morpheus.registerSource(Namespace(\"people\"), GraphSources.cypher.neo4j(neo4jPeopleContext.config))\n",
    "val peopleGraph = morpheus.catalog.graph(\"people.graph\")"
   ]
  },
  {
   "cell_type": "code",
   "execution_count": 13,
   "metadata": {},
   "outputs": [
    {
     "name": "stdout",
     "output_type": "stream",
     "text": [
      "╔══════════════════════════════════════════╗\n",
      "║ n                                        ║\n",
      "╠══════════════════════════════════════════╣\n",
      "║ (:`Car` {`plate`: 'AB123AB'})            ║\n",
      "║ (:`Car` {`plate`: 'DE456DE'})            ║\n",
      "║ (:`Person` {`age`: 18, `name`: 'Alice'}) ║\n",
      "║ (:`Person` {`age`: 45, `name`: 'Bob'})   ║\n",
      "╚══════════════════════════════════════════╝\n",
      "(4 rows)\n"
     ]
    }
   ],
   "source": [
    "peopleGraph.cypher(\"MATCH (n) RETURN n\").show"
   ]
  },
  {
   "cell_type": "code",
   "execution_count": 14,
   "metadata": {},
   "outputs": [
    {
     "data": {
      "text/plain": [
       "carsGraph: org.opencypher.okapi.api.graph.PropertyGraph = ScanGraph(NodePattern(NODE(:Car)))\n"
      ]
     },
     "execution_count": 14,
     "metadata": {},
     "output_type": "execute_result"
    }
   ],
   "source": [
    "morpheus.registerSource(Namespace(\"cars\"), GraphSources.cypher.neo4j(neo4jCarsContext.config))\n",
    "val carsGraph = morpheus.catalog.graph(\"cars.graph\")"
   ]
  },
  {
   "cell_type": "code",
   "execution_count": 15,
   "metadata": {},
   "outputs": [
    {
     "name": "stdout",
     "output_type": "stream",
     "text": [
      "╔═════════════════════════════════════════════╗\n",
      "║ n                                           ║\n",
      "╠═════════════════════════════════════════════╣\n",
      "║ (:`Car` {`plate`: 'AB123AB', `power`: 130}) ║\n",
      "║ (:`Car` {`plate`: 'DE456DE', `power`: 95})  ║\n",
      "╚═════════════════════════════════════════════╝\n",
      "(2 rows)\n"
     ]
    }
   ],
   "source": [
    "carsGraph.cypher(\"MATCH (n) RETURN n\").show"
   ]
  },
  {
   "cell_type": "code",
   "execution_count": 16,
   "metadata": {},
   "outputs": [
    {
     "data": {
      "text/plain": [
       "insuranceGraph: org.opencypher.okapi.api.graph.PropertyGraph = EmptyGraph()\n"
      ]
     },
     "execution_count": 16,
     "metadata": {},
     "output_type": "execute_result"
    }
   ],
   "source": [
    "morpheus.registerSource(Namespace(\"insurance\"), GraphSources.cypher.neo4j(neo4jInsuranceContext.config))\n",
    "val insuranceGraph = morpheus.catalog.graph(\"insurance.graph\")"
   ]
  },
  {
   "cell_type": "code",
   "execution_count": 17,
   "metadata": {},
   "outputs": [
    {
     "name": "stdout",
     "output_type": "stream",
     "text": [
      "╔═══╗\n",
      "║ n ║\n",
      "╚═══╝\n",
      "(no rows)\n"
     ]
    }
   ],
   "source": [
    "insuranceGraph.cypher(\"MATCH (n) RETURN n\").show"
   ]
  },
  {
   "cell_type": "code",
   "execution_count": 18,
   "metadata": {},
   "outputs": [
    {
     "data": {
      "text/plain": [
       "integratedGraph: org.opencypher.okapi.relational.api.graph.RelationalCypherGraph[org.opencypher.morpheus.impl.table.SparkTable.DataFrameTable] = UnionGraph(graphs=[PrefixedGraph(graph=ScanGraph(NodePattern(NODE(:Car)), NodePattern(NODE(:Person)), RelationshipPattern(RELATIONSHIP(:drives)))),PrefixedGraph(graph=ScanGraph(NodePattern(NODE(:Car)))),ScanGraph(RelationshipPattern(RELATIONSHIP(:highRisk)))])\n"
      ]
     },
     "execution_count": 18,
     "metadata": {},
     "output_type": "execute_result"
    }
   ],
   "source": [
    "val integratedGraph = morpheus.cypher(\n",
    "    \"\"\"|FROM GRAPH people.graph\n",
    "       |MATCH (p:Person)-[:drives]->(c1:Car)\n",
    "       |WHERE p.age < 25\n",
    "       |FROM GRAPH cars.graph\n",
    "       |MATCH (c2:Car)\n",
    "       |WHERE c1.plate = c2.plate AND c2.power > 100\n",
    "       |CONSTRUCT\n",
    "       |  ON people.graph, cars.graph\n",
    "       |  CREATE (p)-[:highRisk]->(c2)\n",
    "       |RETURN GRAPH\n",
    "    \"\"\".stripMargin\n",
    "  ).getGraph.get"
   ]
  },
  {
   "cell_type": "code",
   "execution_count": 19,
   "metadata": {},
   "outputs": [
    {
     "data": {
      "text/plain": [
       "import org.opencypher.morpheus.api.io.neo4j.sync.Neo4jGraphMerge\n",
       "import org.opencypher.okapi.neo4j.io.MetaLabelSupport.entireGraphName\n",
       "nodeKeys: scala.collection.immutable.Map[String,scala.collection.immutable.Set[String]] = Map(Person -> Set(name), Car -> Set(plate))\n"
      ]
     },
     "execution_count": 19,
     "metadata": {},
     "output_type": "execute_result"
    }
   ],
   "source": [
    "import org.opencypher.morpheus.api.io.neo4j.sync.Neo4jGraphMerge\n",
    "import org.opencypher.okapi.neo4j.io.MetaLabelSupport.entireGraphName\n",
    "\n",
    "// Define the node and relationship keys\n",
    "  // Note that in this example we assume that names and titles uniquely identify people and products\n",
    "  val nodeKeys = Map(\"Person\" -> Set(\"name\"), \"Car\" -> Set(\"plate\"))\n",
    "\n",
    "  // Write the recommendations back to Neo4j\n",
    "  Neo4jGraphMerge.merge(entireGraphName, integratedGraph, neo4jInsuranceContext.config, Some(nodeKeys))"
   ]
  },
  {
   "cell_type": "code",
   "execution_count": 20,
   "metadata": {},
   "outputs": [
    {
     "data": {
      "text/plain": [
       "updatedNeo4jSource: org.opencypher.morpheus.api.io.neo4j.Neo4jPropertyGraphDataSource = Neo4jPropertyGraphDataSource(Neo4jConfig(bolt://neo4j-insurance:7687,neo4j,Some(insurance),false,100000,100000,1000,10),None,false)\n"
      ]
     },
     "execution_count": 20,
     "metadata": {},
     "output_type": "execute_result"
    }
   ],
   "source": [
    "  // Proof that the write-back to Neo4j worked, retrieve and print updated Neo4j results\n",
    "  val updatedNeo4jSource = GraphSources.cypher.neo4j(neo4jInsuranceContext.config)\n",
    "  morpheus.registerSource(Namespace(\"updated-neo4j\"), updatedNeo4jSource)"
   ]
  },
  {
   "cell_type": "code",
   "execution_count": 21,
   "metadata": {},
   "outputs": [
    {
     "name": "stdout",
     "output_type": "stream",
     "text": [
      "╔══════════════════════════════════════════╤═════════════════════════════════════════════╗\n",
      "║ person                                   │ c                                           ║\n",
      "╠══════════════════════════════════════════╪═════════════════════════════════════════════╣\n",
      "║ (:`Person` {`age`: 18, `name`: 'Alice'}) │ (:`Car` {`plate`: 'AB123AB', `power`: 130}) ║\n",
      "╚══════════════════════════════════════════╧═════════════════════════════════════════════╝\n",
      "(1 row)\n"
     ]
    },
    {
     "data": {
      "text/plain": [
       "import org.opencypher.okapi.api.graph.QualifiedGraphName\n",
       "socialNetworkWithRanks: org.opencypher.okapi.api.graph.PropertyGraph = ScanGraph(NodePattern(NODE(:Car)), NodePattern(NODE(:Person)), RelationshipPattern(RELATIONSHIP(:highRisk)), RelationshipPattern(RELATIONSHIP(:drives)))\n"
      ]
     },
     "execution_count": 21,
     "metadata": {},
     "output_type": "execute_result"
    }
   ],
   "source": [
    "import org.opencypher.okapi.api.graph.QualifiedGraphName\n",
    "                                       \n",
    "val socialNetworkWithRanks = morpheus.catalog.graph(QualifiedGraphName(Namespace(\"updated-neo4j\"), entireGraphName))\n",
    "  socialNetworkWithRanks.cypher(\n",
    "    \"\"\"MATCH (person:Person)-[:highRisk]->(c:Car)\n",
    "      |RETURN person, c\"\"\".stripMargin).show"
   ]
  },
  {
   "cell_type": "code",
   "execution_count": null,
   "metadata": {},
   "outputs": [],
   "source": []
  }
 ],
 "metadata": {
  "kernelspec": {
   "display_name": "spylon-kernel",
   "language": "scala",
   "name": "spylon-kernel"
  },
  "language_info": {
   "codemirror_mode": "text/x-scala",
   "file_extension": ".scala",
   "help_links": [
    {
     "text": "MetaKernel Magics",
     "url": "https://metakernel.readthedocs.io/en/latest/source/README.html"
    }
   ],
   "mimetype": "text/x-scala",
   "name": "scala",
   "pygments_lexer": "scala",
   "version": "0.4.1"
  }
 },
 "nbformat": 4,
 "nbformat_minor": 2
}
